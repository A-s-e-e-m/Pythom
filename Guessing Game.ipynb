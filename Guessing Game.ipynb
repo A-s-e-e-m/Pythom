{
 "cells": [
  {
   "cell_type": "code",
   "execution_count": 1,
   "metadata": {},
   "outputs": [
    {
     "name": "stdout",
     "output_type": "stream",
     "text": [
      "WELCOME TO GUESS ME!\n",
      "I'm thinking of a number between 1 and 100\n",
      "If your guess is more than 10 away from my number, I'll tell you you're COLD\n",
      "If your guess is within 10 of my number, I'll tell you you're WARM\n",
      "If your guess is farther than your most recent guess, I'll say you're getting COLDER\n",
      "If your guess is closer than your most recent guess, I'll say you're getting WARMER\n",
      "LET'S PLAY!\n",
      "Thinking of a number between 1 and 100.What's your guess?33\n",
      "Warm\n",
      "Thinking of a number between 1 and 100.What's your guess?34\n",
      "WARMER!\n",
      "Thinking of a number between 1 and 100.What's your guess?35\n",
      "WARMER!\n",
      "Thinking of a number between 1 and 100.What's your guess?36\n",
      "WARMER!\n",
      "Thinking of a number between 1 and 100.What's your guess?37\n",
      "WARMER!\n",
      "Thinking of a number between 1 and 100.What's your guess?38\n",
      "WARMER!\n",
      "Thinking of a number between 1 and 100.What's your guess?39\n",
      "Congrats! You got it correct .\n"
     ]
    }
   ],
   "source": [
    "import random\n",
    "num=random.randint(1,100)\n",
    "\n",
    "print(\"WELCOME TO GUESS ME!\")\n",
    "print(\"I'm thinking of a number between 1 and 100\")\n",
    "print(\"If your guess is more than 10 away from my number, I'll tell you you're COLD\")\n",
    "print(\"If your guess is within 10 of my number, I'll tell you you're WARM\")\n",
    "print(\"If your guess is farther than your most recent guess, I'll say you're getting COLDER\")\n",
    "print(\"If your guess is closer than your most recent guess, I'll say you're getting WARMER\")\n",
    "print(\"LET'S PLAY!\")\n",
    "\n",
    "guesses=[0]\n",
    "\n",
    "while True:\n",
    "    guess=int(input(\"Thinking of a number between 1 and 100.What's your guess?\"))\n",
    "    \n",
    "    if guess>100 or guess<1:\n",
    "        print(\"Out of Bounds. Try Again!\")\n",
    "        continue\n",
    "    \n",
    "    if guess==num:\n",
    "        print(\"Congrats! You got it correct .\")\n",
    "        break\n",
    "\n",
    "    guesses.append(guess)\n",
    "    \n",
    "    if guesses[-2]:  \n",
    "        if abs(num-guess) < abs(num-guesses[-2]):\n",
    "            print('WARMER!')\n",
    "        else:\n",
    "            print('COLDER!')\n",
    "    else:\n",
    "        if abs(num-guess)<10:\n",
    "            print(\"Warm\")\n",
    "        else:\n",
    "            print(\"Cold\")"
   ]
  },
  {
   "cell_type": "code",
   "execution_count": null,
   "metadata": {},
   "outputs": [],
   "source": []
  }
 ],
 "metadata": {
  "kernelspec": {
   "display_name": "Python 3",
   "language": "python",
   "name": "python3"
  },
  "language_info": {
   "codemirror_mode": {
    "name": "ipython",
    "version": 3
   },
   "file_extension": ".py",
   "mimetype": "text/x-python",
   "name": "python",
   "nbconvert_exporter": "python",
   "pygments_lexer": "ipython3",
   "version": "3.7.3"
  }
 },
 "nbformat": 4,
 "nbformat_minor": 2
}
